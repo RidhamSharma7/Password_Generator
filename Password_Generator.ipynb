{
  "nbformat": 4,
  "nbformat_minor": 0,
  "metadata": {
    "colab": {
      "provenance": [],
      "authorship_tag": "ABX9TyN3pEhn76qU+EPa3YqyLmOp",
      "include_colab_link": true
    },
    "kernelspec": {
      "name": "python3",
      "display_name": "Python 3"
    },
    "language_info": {
      "name": "python"
    }
  },
  "cells": [
    {
      "cell_type": "markdown",
      "metadata": {
        "id": "view-in-github",
        "colab_type": "text"
      },
      "source": [
        "<a href=\"https://colab.research.google.com/github/RidhamSharma7/Password_Generator/blob/main/Password_Generator.ipynb\" target=\"_parent\"><img src=\"https://colab.research.google.com/assets/colab-badge.svg\" alt=\"Open In Colab\"/></a>"
      ]
    },
    {
      "cell_type": "code",
      "execution_count": null,
      "metadata": {
        "id": "8AyOU4tyq8hp"
      },
      "outputs": [],
      "source": [
        "l=['a','b','c','d','e','f','g','h','i','j','k','l','m','n','o','p','q','r','s','t','u','v','w','x','y','z']\n",
        "n=['0','1','2','3','4','5','6','7','8','9']\n",
        "s=['@','#','$','%','^','&','*','!']\n",
        "\n",
        "x=int(input('Number of letters for a password:\\n'))\n",
        "y=int(input('Number of numbers for a password:\\n'))\n",
        "z=int(input('Number of symbols for a password:\\n'))\n",
        "\n",
        "password=[]\n",
        "import random\n",
        "\n",
        "for i in range(x):\n",
        "    a=random.choice(l)\n",
        "    password.append(a)\n",
        "\n",
        "for i in range(y):\n",
        "    b=random.choice(n)\n",
        "    password.append(b)\n",
        "\n",
        "for i in range(z):\n",
        "    c=random.choice(s)\n",
        "    password.append(c)\n",
        "\n",
        "\n",
        "random.shuffle(password) #to shuffle added choices\n",
        "\n",
        "print('Suggested Password:\\n',''.join(password)) #to join the list of chrs of password added in empty list\n",
        "\n",
        "if len(password)<=6:\n",
        "    print('Password is too short')\n",
        "elif len(password)==7:\n",
        "    print('Password is good')\n",
        "elif len(password)>7:\n",
        "    print('Password is strong')\n",
        "\n"
      ]
    }
  ]
}